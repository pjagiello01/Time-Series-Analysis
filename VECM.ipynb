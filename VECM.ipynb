{
 "cells": [
  {
   "metadata": {},
   "cell_type": "code",
   "outputs": [],
   "execution_count": null,
   "source": [
    "import pandas as pd\n",
    "import numpy as np\n",
    "import matplotlib.pyplot as plt\n",
    "import seaborn as sns\n",
    "import statsmodels.api as sm\n",
    "from statsmodels.tsa.api import VAR, VECM\n",
    "from statsmodels.tsa.vector_ar.vecm import select_order, select_coint_rank, coint_johansen\n",
    "from statsmodels.tsa.stattools import adfuller\n",
    "from statsmodels.graphics.tsaplots import plot_acf, plot_pacf\n",
    "from statsmodels.stats.stattools import jarque_bera\n",
    "from statsmodels.stats.diagnostic import acorr_ljungbox\n",
    "from scipy.stats import norm\n",
    "\n",
    "import utils\n",
    "\n",
    "# Set global options\n",
    "pd.options.display.float_format = '{:.10f}'.format\n",
    "sns.set_theme(style=\"whitegrid\")"
   ],
   "id": "56962044f652ef1a"
  },
  {
   "metadata": {},
   "cell_type": "code",
   "outputs": [],
   "execution_count": null,
   "source": [
    "df = pd.read_csv('data/prices.csv')\n",
    "df['date'] = pd.to_datetime(df['date'])\n",
    "df.set_index('date', inplace = True)\n",
    "sample_df = df.iloc[:575]\n",
    "df.head()\n",
    "sample_df.tail()\n",
    "sample_df.info()"
   ],
   "id": "1af99aafa1f410cd"
  },
  {
   "metadata": {},
   "cell_type": "code",
   "outputs": [],
   "execution_count": null,
   "source": [
    "coint_df = sample_df[['y3', 'y8']]\n",
    "coint_df.head()\n"
   ],
   "id": "1db5940deeb30cc3"
  },
  {
   "metadata": {},
   "cell_type": "code",
   "outputs": [],
   "execution_count": null,
   "source": [
    "# print(coint_df.dtypes)\n",
    "print(coint_df.index)\n",
    "coint_df = coint_df.dropna().astype(float)"
   ],
   "id": "20d23af5a4f3ad94"
  },
  {
   "metadata": {},
   "cell_type": "markdown",
   "source": "Let's again see how both series looks on one diagram",
   "id": "ab3bbfbb55eb6381"
  },
  {
   "metadata": {},
   "cell_type": "code",
   "outputs": [],
   "execution_count": null,
   "source": [
    "plt.figure(figsize=(12, 6))\n",
    "plt.plot(coint_df['y3'], label='Y3', color='black')\n",
    "plt.plot(coint_df['y8'], label='Y10', color='blue')\n",
    "plt.title('Cointegrated series')\n",
    "plt.xlabel('Date')\n",
    "plt.ylabel('Asset Price Index')\n",
    "plt.legend(loc='upper left')\n",
    "plt.grid(True, which='major', axis='x', linestyle='--')\n",
    "plt.show()"
   ],
   "id": "8fd629ad9c920e94"
  },
  {
   "metadata": {},
   "cell_type": "markdown",
   "source": "## Cointegration Test ##",
   "id": "9a05dd5c25e90770"
  },
  {
   "metadata": {},
   "cell_type": "markdown",
   "source": " ΔYt = ΠYt−1 + Γ1ΔYt−1 + Γ2ΔYt−2 + . . . + Γp−1ΔYt−(p−1) + εt",
   "id": "444edc4634049e5"
  },
  {
   "metadata": {},
   "cell_type": "markdown",
   "source": "Because lag length can affect Johansen test we should first decide how many lags will be taken into consideration. First what comes to mind is 5 lags because we are dealing with asset prices, it would make sense. But to make more informed decision we can employ information criteria.",
   "id": "5ef6ecfdbbdba9d1"
  },
  {
   "metadata": {},
   "cell_type": "code",
   "outputs": [],
   "execution_count": null,
   "source": [
    "model = VAR(coint_df,freq='D')\n",
    "results = model.select_order(maxlags=10)\n",
    "print(\"\\nLag selection results:\")\n",
    "print(results.summary())"
   ],
   "id": "5fbc776b423dbce1"
  },
  {
   "metadata": {},
   "cell_type": "markdown",
   "source": "We are looking at lowest values for each criteria. We can see that two of the information criteria are pointing to 3 lags and two to 4. Let's use method for picking up the most optimal number of lags.",
   "id": "4d3a9cedd605497d"
  },
  {
   "metadata": {},
   "cell_type": "code",
   "outputs": [],
   "execution_count": null,
   "source": [
    "\n",
    "utils.selct_var_order(coint_df, max_lags=10)"
   ],
   "id": "73c53a5b8b0852d5"
  },
  {
   "metadata": {},
   "cell_type": "markdown",
   "source": "Given that we are dealing with financial instruments data we will use 3 number of lags in our test. Also AIC and FPE usually favor bigger number of lags, BIC is usually on the lower side, but HQIC should be something in between.",
   "id": "1d70297b61290aa4"
  },
  {
   "metadata": {},
   "cell_type": "markdown",
   "source": "# Performing Johansen test",
   "id": "11a9c582bf2833de"
  },
  {
   "metadata": {},
   "cell_type": "markdown",
   "source": "We are performing this test to verify if cointegrated vector exists for those two time series.",
   "id": "bdc958f0f9f403b3"
  },
  {
   "metadata": {},
   "cell_type": "code",
   "outputs": [],
   "execution_count": null,
   "source": [
    "# Perform Johansen test\n",
    "# K=4 in levels VAR -> k_ar_diff = K-1 = 3 lags in VECM differences\n",
    "# ecdet = \"const\" -> det_order = 0 (constant in CE)\n",
    "\n",
    "johansen_result = coint_johansen(sample_df[['y3', 'y8']], det_order=0, k_ar_diff=3)\n",
    "\n",
    "print(\"Johansen Test Results:\")\n",
    "print(\"Eigenvalues:\")\n",
    "print(johansen_result.eig)\n",
    "print(\"\\nTrace Statistic:\")\n",
    "print(johansen_result.lr1)\n",
    "print(\"\\nCritical Values (90%, 95%, 99%) for Trace Statistic:\")\n",
    "print(johansen_result.cvt)\n",
    "print(\"\\nMaximum Eigenvalue Statistic:\")\n",
    "print(johansen_result.lr2)\n",
    "print(\"\\nCritical Values (90%, 95%, 99%) for Max Eigenvalue Statistic:\")\n",
    "print(johansen_result.cvm)"
   ],
   "id": "d49a7fc1cef10439"
  },
  {
   "metadata": {},
   "cell_type": "code",
   "outputs": [],
   "execution_count": null,
   "source": [
    "print(\"--- Interpretation (Trace Test) ---\")\n",
    "hypotheses_trace = ['r <= 0', 'r <= 1']\n",
    "for i in range(len(hypotheses_trace)):\n",
    "    print(f\"H0: {hypotheses_trace[i]}\")\n",
    "    print(f\"  Trace Statistic: {johansen_result.lr1[i]:.3f}\")\n",
    "    print(f\"  Critical Value (95%): {johansen_result.cvt[i, 2]:.3f}\")\n",
    "    if johansen_result.lr1[i] > johansen_result.cvt[i, 2]:\n",
    "        print(\"  Result: Reject H0 at 5% significance level.\")\n",
    "    else:\n",
    "        print(\"  Result: Cannot reject H0 at 5% significance level.\")\n",
    "\n",
    "print(\"\\n--- Interpretation (Max Eigenvalue Test) ---\")\n",
    "hypotheses_maxeig = ['r = 0', 'r = 1'] # H0: rank is r vs H1: rank is r+1\n",
    "for i in range(len(hypotheses_maxeig)):\n",
    "    print(f\"H0: {hypotheses_maxeig[i]}\")\n",
    "    print(f\"  Max Eigenvalue Statistic: {johansen_result.lr2[i]:.3f}\")\n",
    "    print(f\"  Critical Value (95%): {johansen_result.cvm[i, 2]:.3f}\")\n",
    "    if johansen_result.lr2[i] > johansen_result.cvm[i, 2]:\n",
    "        print(\"  Result: Reject H0 at 5% significance level.\")\n",
    "    else:\n",
    "        print(\"  Result: Cannot reject H0 at 5% significance level.\")"
   ],
   "id": "7e0284f6f451b7ca"
  },
  {
   "metadata": {},
   "cell_type": "markdown",
   "source": "In both cases for Trace and Max Eigenvalue tests we can see that H0 indicating that there is **no cointegrating vector can be rejected**. However, we fail to reject H0 that there is **one cointegrating vector** thus implying that we have exactly one cointegrating vector and series is cointegrated.",
   "id": "a61d890379a24aab"
  },
  {
   "metadata": {},
   "cell_type": "markdown",
   "source": "## VECM model ##",
   "id": "7bca223b54bc0e"
  },
  {
   "metadata": {},
   "cell_type": "markdown",
   "source": [
    "Following variables will be used in our VECM model\n",
    "* Previously set number of lags = 4 so lag order in differences will be 3.\n",
    "* Cointegration as already establish is of rank one\n",
    "* Daily frequency = daily\n",
    "* why ci exactly?"
   ],
   "id": "7c5f86a5202e250e"
  },
  {
   "metadata": {},
   "cell_type": "code",
   "outputs": [],
   "execution_count": null,
   "source": [
    "# Estimate VECM\n",
    "vecm_model = VECM(coint_df, k_ar_diff=3, coint_rank=1, deterministic='ci',freq='D')\n",
    "vecm_results = vecm_model.fit()"
   ],
   "id": "d4fcf5fd7f0a9cf6"
  },
  {
   "metadata": {},
   "cell_type": "markdown",
   "source": "Let's see the results:",
   "id": "bd4ed47b68126b5c"
  },
  {
   "metadata": {},
   "cell_type": "code",
   "outputs": [],
   "execution_count": null,
   "source": "print(vecm_results.summary())",
   "id": "f36bdff54a799161"
  },
  {
   "metadata": {},
   "cell_type": "markdown",
   "source": [
    "The VECM is given by:\n",
    "\n",
    "$$\\Delta\\boldsymbol{y}_t = \\Pi\\boldsymbol{y}_{t-1} + \\Gamma_1\\Delta\\boldsymbol{y}_{t-1} + ... + \\Gamma_p\\Delta\\boldsymbol{y}_{t-p} + \\boldsymbol{c}_d + \\boldsymbol{\\varepsilon}_t$$\n",
    "\n",
    "where long run coefficient matrix is described as:\n",
    "$$\n",
    "\\boldsymbol{\\Pi}=\\alpha\\beta'=\\left[\n",
    "\t\\begin{array}{ccc}\n",
    "\t\\alpha_{11} \\\\\n",
    "\t\\alpha_{21} \\\\\n",
    "\t\\end{array}\n",
    "\\right]\n",
    "\\left[\n",
    "\t\\begin{array}{cccc}\n",
    "\\beta_{11} \\quad \\beta_{21} \\\\\n",
    " \\end{array}\n",
    "\\right]\n",
    "$$\n"
   ],
   "id": "9629b9c4f17dac00"
  },
  {
   "metadata": {},
   "cell_type": "markdown",
   "source": "let's see what values it takes in our case:",
   "id": "101509ad2aa3476d"
  },
  {
   "metadata": {},
   "cell_type": "code",
   "outputs": [],
   "execution_count": null,
   "source": [
    "print(\"\\nLong-run coefficient matrix:\")\n",
    "print(f\"{vecm_results.alpha} {vecm_results.beta[:, 0] / vecm_results.beta[0, 0]}\")"
   ],
   "id": "8d834f6d9f8b84c6"
  },
  {
   "metadata": {},
   "cell_type": "markdown",
   "source": "**Interpretations:**",
   "id": "d46e56ad6b3a6403"
  },
  {
   "metadata": {},
   "cell_type": "markdown",
   "source": [
    "Alphas ( 'adjustment parameters' )\n",
    "* $\\alpha_{11}$ - we see it being positive, and in this case we would expect negative sign, but coefficient is not statistically significant.\n",
    "* $\\alpha_{12}$ - is positive 2.5163 and statistically significant, meaning that correction mechanism works in expected direction. Variable should return to the long-term equilibrium - when it's above it should adjust downwards and below it adjust upwards.\n",
    "\n",
    " Betas ( coingegrating vectors )\n",
    "* $\\beta_{11}$ - normalization applied thanks to decomposition of Π no being unique.\n",
    "* $\\beta_{12}$ - negative sign tells us that y$_{1}$ it is positively related to y$_{2}$. In perfect equilibrium we would have y$_{1}$ = 0.625 * y$_{2}$."
   ],
   "id": "c2f7f82ff109eef1"
  },
  {
   "metadata": {},
   "cell_type": "markdown",
   "source": [
    "Lag terms:\n",
    "$$\\Gamma_1\\Delta\\boldsymbol{y}_{t-1} + ... + \\Gamma_p\\Delta\\boldsymbol{y}_{t-p} + \\boldsymbol{c}_d + \\boldsymbol{\\varepsilon}_t$$\n",
    "\n",
    "this represents short-run dynamics outside cointegration relation. None of the coefficients is statistically significant thus we are ommiting interpretation."
   ],
   "id": "595b30b68c94e72f"
  },
  {
   "metadata": {},
   "cell_type": "markdown",
   "source": "**We are reparametrizing VECM to VAR for further examination of the relations**",
   "id": "fb93a7dbd8ba615b"
  },
  {
   "metadata": {},
   "cell_type": "code",
   "outputs": [],
   "execution_count": null,
   "source": [
    "# Estimate VAR\n",
    "var_model = VAR(coint_df,freq='D')\n",
    "var_results = var_model.fit(4)"
   ],
   "id": "94e508ad50c0955f"
  },
  {
   "metadata": {},
   "cell_type": "markdown",
   "source": [
    "## Impulse Response Functions\n",
    "Let's examine what effect have shocks applied to variables"
   ],
   "id": "153fde76a869dabd"
  },
  {
   "metadata": {},
   "cell_type": "code",
   "outputs": [],
   "execution_count": null,
   "source": [
    "# Calculate and plot impulse response functions\n",
    "irf = var_results.irf(160)  # 36 periods ahead (equivalent to n.ahead=36 in R)\n",
    "# and hence interpretations may change depending on variable ordering.\n",
    "irf.plot(orth=True);"
   ],
   "id": "189c4cd602066b0e"
  },
  {
   "metadata": {},
   "cell_type": "markdown",
   "source": [
    "**Interpretation**\n",
    "\n",
    "* y3->y3 : initial increase up to 25 days, and afterward slow decrease toward equilibrium\n",
    "* y3->y8 : shock has bigger initial impact on y8, but as in previous case impacted variable is slowly converging toward 0\n",
    "* y8->y3 : no first period impact of the y8 on y3. But we can observe negative impact on y3 and which converges back to 0\n",
    "* y8->y8 : quick small jump at the beginning but as in previous case we are observing negative impact on first periods and convergence starting prior 25 period.\n",
    "\n",
    "\n"
   ],
   "id": "7feac9c4984d3aa9"
  },
  {
   "metadata": {},
   "cell_type": "code",
   "outputs": [],
   "execution_count": null,
   "source": "",
   "id": "4172d8c1e6065db2"
  }
 ],
 "metadata": {},
 "nbformat": 5,
 "nbformat_minor": 9
}
